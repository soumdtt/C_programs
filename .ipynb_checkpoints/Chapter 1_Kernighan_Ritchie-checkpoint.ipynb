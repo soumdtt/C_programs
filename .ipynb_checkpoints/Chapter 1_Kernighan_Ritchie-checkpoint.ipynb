{
 "cells": [
  {
   "cell_type": "code",
   "execution_count": 9,
   "metadata": {},
   "outputs": [
    {
     "name": "stdout",
     "output_type": "stream",
     "text": [
      "Hello World !\n",
      "\tHello World !\t"
     ]
    }
   ],
   "source": [
    "#include <stdio.h>\n",
    "int main(){\n",
    "    printf(\"Hello World !\\n\");\n",
    "    printf(\"\\tHello World !\\t\");\n",
    "}\n",
    "    "
   ]
  },
  {
   "cell_type": "code",
   "execution_count": 1,
   "metadata": {},
   "outputs": [
    {
     "name": "stdout",
     "output_type": "stream",
     "text": [
      "Table of Fahrenheit to Celcius conversions\n",
      "           0                    -17.8\n",
      "          20                     -6.7\n",
      "          40                      4.4\n",
      "          60                     15.6\n",
      "          80                     26.7\n",
      "         100                     37.8\n",
      "         120                     48.9\n",
      "         140                     60.0\n",
      "         160                     71.1\n",
      "         180                     82.2\n",
      "         200                     93.3\n",
      "         220                    104.4\n",
      "         240                    115.6\n",
      "         260                    126.7\n",
      "         280                    137.8\n",
      "         300                    148.9\n"
     ]
    }
   ],
   "source": [
    "#include <stdio.h>\n",
    "int main(){\n",
    "    float cel, farhn;\n",
    "    int start, stop, step;\n",
    "    start = 0;\n",
    "    stop = 300.0;\n",
    "    step = 20.0;\n",
    "    /*print heading before printing out table */\n",
    "    printf(\"Table of Fahrenheit to Celcius conversions\\n\");\n",
    "    /*printf(\"\\6t Fahrenheit %12s Celcius\"); */\n",
    "    farhn = start;\n",
    "    while(farhn <= stop){\n",
    "        cel = (5.0/9.0) * (farhn - 32.0);\n",
    "        /*watch out for this !! \n",
    "        5.0 not 5, 9.0 not 9*/\n",
    "        printf(\"%12.0f %24.1f\\n\", farhn, cel);\n",
    "        farhn = farhn + step;\n",
    "    }\n",
    "    \n",
    "}"
   ]
  },
  {
   "cell_type": "code",
   "execution_count": 4,
   "metadata": {
    "scrolled": false
   },
   "outputs": [
    {
     "name": "stdout",
     "output_type": "stream",
     "text": [
      "         300                    148.9\n",
      "         280                    137.8\n",
      "         260                    126.7\n",
      "         240                    115.6\n",
      "         220                    104.4\n",
      "         200                     93.3\n",
      "         180                     82.2\n",
      "         160                     71.1\n",
      "         140                     60.0\n",
      "         120                     48.9\n",
      "         100                     37.8\n",
      "          80                     26.7\n",
      "          60                     15.6\n",
      "          40                      4.4\n",
      "          20                     -6.7\n",
      "           0                    -17.8\n"
     ]
    }
   ],
   "source": [
    "/* exercise 1.5 K&R */\n",
    "#include <stdio.h>\n",
    "int main(){\n",
    "    int fahr;\n",
    "    for (fahr = 300; fahr>= 0; fahr = fahr - 20)\n",
    "        printf(\"%12d %24.1f\\n\", fahr, (5.0/9.0) * (fahr - 32));\n",
    "}"
   ]
  },
  {
   "cell_type": "markdown",
   "metadata": {},
   "source": [
    "## 1.5 character input and output"
   ]
  },
  {
   "cell_type": "code",
   "execution_count": 21,
   "metadata": {},
   "outputs": [],
   "source": [
    "/* input and output streams\n",
    "ex 1.6 */\n",
    "#include <stdio.h>\n",
    "int main(){\n",
    "    int c;\n",
    "    while ((c=getchar()) != EOF)\n",
    "        putchar(c);\n",
    "}"
   ]
  },
  {
   "cell_type": "code",
   "execution_count": 22,
   "metadata": {},
   "outputs": [
    {
     "name": "stdout",
     "output_type": "stream",
     "text": [
      "The value of EOF is -1"
     ]
    }
   ],
   "source": [
    "/* input and output streams\n",
    "ex 1.7 */\n",
    "#include <stdio.h>\n",
    "int main(){\n",
    "    printf(\"The value of EOF is %d\", EOF);\n",
    "}"
   ]
  },
  {
   "cell_type": "code",
   "execution_count": 1,
   "metadata": {},
   "outputs": [
    {
     "name": "stdout",
     "output_type": "stream",
     "text": [
      "0\n"
     ]
    }
   ],
   "source": [
    "/* program on 2 on pg. 18 */\n",
    "/* no on imput characters in stream */\n",
    "#include <stdio.h>\n",
    "int main(){\n",
    "    double count;\n",
    "    for (count = 0; getchar() != EOF; ++count)\n",
    "        ;\n",
    "    printf(\"%.0f\\n\", count);\n",
    "}"
   ]
  },
  {
   "cell_type": "code",
   "execution_count": 5,
   "metadata": {},
   "outputs": [],
   "source": [
    "/*getting a character from the input and displaying it's integer representation */\n",
    "/*ex 1.8 preamble */\n",
    "#include <stdio.h>\n",
    "int c;\n",
    "int main(){\n",
    "    while ((c=getchar()) != EOF){\n",
    "        printf(\"%d\\n\", c);\n",
    "    }    \n",
    "}"
   ]
  },
  {
   "cell_type": "code",
   "execution_count": 11,
   "metadata": {},
   "outputs": [],
   "source": [
    "/*ex 1.8 count blacks spaces and newlines */\n",
    "#include <stdio.h>\n",
    "int main(){\n",
    "    int c, nl, spc, tab;\n",
    "    nl = 0;\n",
    "    spc = 0;\n",
    "    tab = 0;\n",
    "    while((c = getchar()) != EOF){\n",
    "        if (c == '\\n')\n",
    "            ++nl;\n",
    "        if (c == '\\t')\n",
    "            ++tab;\n",
    "        if (c == ' ')\n",
    "            ++spc;\n",
    "    }\n",
    "    printf(\"The no. of tabs: %d, no. of spaces: %d, no. of newlines: %d\", tab, spc, nl);\n",
    "}"
   ]
  },
  {
   "cell_type": "code",
   "execution_count": 1,
   "metadata": {},
   "outputs": [],
   "source": [
    "/*ex 1.9\n",
    "replace strings of one or more spaces with a single space*/\n",
    "#include <stdio.h>\n",
    "int main(){\n",
    "    int c, spc;\n",
    "    spc = 0;\n",
    "    while((c = getchar()) != EOF){\n",
    "        if (c != ' '){\n",
    "            putchar(c);\n",
    "            spc = 0;\n",
    "        }\n",
    "            \n",
    "    }\n",
    "}"
   ]
  },
  {
   "cell_type": "code",
   "execution_count": 4,
   "metadata": {},
   "outputs": [],
   "source": [
    "/*ex 1.9 */\n",
    "#include <stdio.h>\n",
    "int main(){\n",
    "    int c, n, cSpc;\n",
    "    n = 0;\n",
    "    cSpc = 0;\n",
    "    while((c = getchar()) != EOF){\n",
    "        n++;\n",
    "        if (n == 1){\n",
    "            putchar('\\n');\n",
    "        }\n",
    "        if (c != ' '){\n",
    "            putchar(c);\n",
    "            cSpc = 0;\n",
    "            \n",
    "        }\n",
    "        if (c == ' '){\n",
    "            ++cSpc;\n",
    "            if (cSpc < 2){\n",
    "                putchar(' ');\n",
    "            }\n",
    "        }\n",
    "    }\n",
    "    \n",
    "}"
   ]
  },
  {
   "cell_type": "code",
   "execution_count": 1,
   "metadata": {},
   "outputs": [],
   "source": [
    "/*ex 1.10\n",
    "replaces tab with \\t, backspace as \\b and \\ as \\\\*/\n",
    "#include <stdio.h>\n",
    "int main(){\n",
    "    int c, n;\n",
    "    n = 0;\n",
    "    while ((c = getchar()) != EOF){\n",
    "        n++;\n",
    "        if (n == 1){\n",
    "            putchar ('\\n');\n",
    "        }\n",
    "        if (c == '\\t'){\n",
    "            printf(\"\\\\t\");\n",
    "        }\n",
    "        if (c == '\\b'){\n",
    "            printf(\"\\\\b \");\n",
    "        }\n",
    "        if (c == '\\\\'){\n",
    "        \tprintf(\"\\\\\");\n",
    "        }\n",
    "        \n",
    "        putchar(c);\n",
    "    }\n",
    "    \n",
    "}"
   ]
  },
  {
   "cell_type": "code",
   "execution_count": 5,
   "metadata": {},
   "outputs": [
    {
     "name": "stdout",
     "output_type": "stream",
     "text": [
      "0 0 0 \n"
     ]
    }
   ],
   "source": [
    "/* counting words, book example */\n",
    "#include <stdio.h>\n",
    "\n",
    "#define IN 1\n",
    "#define OUT 0\n",
    "\n",
    "int main(){\n",
    "    \n",
    "    int c, nl, nw, nc, state;\n",
    "    \n",
    "    state = OUT;\n",
    "    nl = nw = nc = 0;\n",
    "    while ((c = getchar()) != EOF){\n",
    "        ++nc;\n",
    "        if (c == '\\n')\n",
    "            ++nl;\n",
    "        if (c == ' ' || c == '\\n' || c == '\\t')\n",
    "            state = OUT;\n",
    "        else if (state == OUT){\n",
    "            state = IN;\n",
    "            ++nw;\n",
    "        }\n",
    "    }\n",
    "    printf(\"%d %d %d \\n\", nl, nw, nc);\n",
    "}"
   ]
  },
  {
   "cell_type": "code",
   "execution_count": 9,
   "metadata": {},
   "outputs": [],
   "source": [
    "/* ex 1.12\n",
    "print the input one word per line */\n",
    "\n",
    "#include <stdio.h>\n",
    "\n",
    "#define WRD 0\n",
    "#define SPC 1\n",
    "\n",
    "int main(){\n",
    "    \n",
    "    int c, state;\n",
    "    state = SPC;\n",
    "    \n",
    "    while ((c = getchar()) != EOF){\n",
    "        \n",
    "        if (c == ' ' || c == '\\t'){\n",
    "            \n",
    "            if (state == WRD){\n",
    "                state = SPC;\n",
    "                putchar('\\n');\n",
    "            }\n",
    "        }\n",
    "        else{\n",
    "            \n",
    "            state = WRD;\n",
    "            putchar(c); \n",
    "\n",
    "        }\n",
    "       \n",
    "    }\n",
    "}"
   ]
  },
  {
   "cell_type": "code",
   "execution_count": null,
   "metadata": {},
   "outputs": [],
   "source": [
    "/* ex 1.12\n",
    "print the input one word per line */\n",
    "\n",
    "#include <stdio.h>\n",
    "\n",
    "#define IN 1\n",
    "#define OUT 0\n",
    "\n",
    "int main(){\n",
    "    \n",
    "    int c, state;\n",
    "    state = OUT;\n",
    "    \n",
    "    while ((c = getchar()) != EOF){\n",
    "        \n",
    "        if ( c == ' ' | c == '\\t' | c == '\\n'){\n",
    "            \n",
    "            if(state == IN){\n",
    "                \n",
    "                putchar('\\n');\n",
    "                state = OUT;   \n",
    "            }\n",
    "            \n",
    "            else if(state == IN){\n",
    "                \n",
    "                putchar(c);\n",
    "                state = IN;\n",
    "            }\n",
    "            \n",
    "            else\n",
    "                putchar(c);\n",
    "        }\n",
    "    }\n",
    "}\n"
   ]
  },
  {
   "cell_type": "markdown",
   "metadata": {},
   "source": [
    "## Arrays"
   ]
  },
  {
   "cell_type": "code",
   "execution_count": 12,
   "metadata": {},
   "outputs": [
    {
     "name": "stdout",
     "output_type": "stream",
     "text": [
      "  1\n",
      "\n",
      "  2\n",
      "\n",
      "  3\n",
      "\n",
      "  4\n",
      "\n",
      "  5\n",
      "\n",
      "  6\n",
      "\n",
      "  7\n",
      "\n",
      "  8\n",
      "\n",
      "  9\n",
      "\n",
      " 10\n",
      "\n",
      " 11\n",
      "\n",
      " 12\n",
      "\n",
      " 13\n",
      "\n",
      " 14\n",
      "\n",
      " 15\n",
      "\n",
      " 16\n",
      "\n",
      " 17\n",
      "\n",
      " 18\n",
      "\n",
      " 19\n",
      "\n",
      " 20\n",
      "\n"
     ]
    }
   ],
   "source": [
    "/* histograms in C \n",
    "Ex 1.13. \n",
    "version 1 --horizontal orientation */\n",
    "\n",
    "#include <stdio.h>\n",
    "\n",
    "#define MAXLENGTH 20\n",
    "#define OUT 0\n",
    "#define IN 1\n",
    "\n",
    "int main(){\n",
    "\n",
    "\tint count[MAXLENGTH -1];\n",
    "\tint i, j, len, c, status;\n",
    "\n",
    "\tlen = 0;\n",
    "\tstatus = OUT;\n",
    "\n",
    "\tfor (i = 0; i <= MAXLENGTH-1; i++)\n",
    "\t\tcount[i] = 0;\n",
    "\n",
    "\twhile (( c = getchar() ) != EOF ){\n",
    "\n",
    "\t\tif ( (c >= 'a' && c <= 'z') || (c >= 'A' && c <= 'Z') ){\n",
    "\n",
    "\t\t\tif (status == OUT)\n",
    "\n",
    "\t\t\t\tstatus = IN;\n",
    "\n",
    "\t\t\t++len;\n",
    "\n",
    "\t\t}\n",
    "\n",
    "\t    else {\n",
    "\n",
    "\n",
    "\t    \t if (status == IN){\n",
    "\n",
    "\t    \t \t\t++count[ len - 1 ];\n",
    "\t\t\t\t\tstatus = OUT; \n",
    "\t\t\t\t\tlen = 0;\n",
    "\n",
    "\t\t\t\t}\n",
    "\n",
    "\n",
    "\n",
    "\t    \t }   /*just exits a work */\n",
    "\n",
    "\t}\n",
    "\n",
    "\t/*print the histogram*/\n",
    "\n",
    "\tfor (i = 0; i <= MAXLENGTH-1; i++){\n",
    "\n",
    "\t\tprintf(\"%3d\",i+1);\n",
    "\n",
    "\t\tfor (j = 0; j<= count[i] - 1; j++)\n",
    "\t\t\tprintf(\"*\");\n",
    "\n",
    "\t\tprintf(\"\\n\\n\");\n",
    "\t}\n",
    "\n",
    "}\n",
    "\n"
   ]
  },
  {
   "cell_type": "code",
   "execution_count": 12,
   "metadata": {},
   "outputs": [],
   "source": [
    "/*preamble to ex. 1.14 \n",
    "echo a character from keyboard to console along with its ascii eqv.*/\n",
    "\n",
    "#include <stdio.h>\n",
    "\n",
    "int main(){\n",
    "    \n",
    "    int c;\n",
    "    while ( (c = getchar()) != EOF ){\n",
    "        \n",
    "        printf(\"%d  %c\\n\", c, c);\n",
    "    }\n",
    "}"
   ]
  },
  {
   "cell_type": "code",
   "execution_count": 1,
   "metadata": {},
   "outputs": [],
   "source": [
    "/* ex 1.14 counting the frequency of characters */\n",
    "\n",
    "#include <stdio.h>\n",
    "\n",
    "#define MIN 32 /*range of printable ascii characters */\n",
    "#define MAX 125 \n",
    "\n",
    "int main(){\n",
    "    \n",
    "    int c, i, range;\n",
    "    range = MAX - MIN + 1;\n",
    "    int count[range];\n",
    "    \n",
    "    for (i = 0; i <= range; i++ ){\n",
    "        \n",
    "        count[i] = 0;\n",
    "    }\n",
    "    \n",
    "    while ((c = getchar()) != EOF){\n",
    "        \n",
    "        if (c >= 32 && c<= 125){\n",
    "            \n",
    "            ++count[c-32];\n",
    "        }\n",
    "        \n",
    "    }\n",
    "    \n",
    "    /*print the character count*/\n",
    "    \n",
    "    for (i=0; i<= range; i++){\n",
    "        \n",
    "        if (count[i] > 0)\n",
    "        printf(\"%c  %d\\n\", i+32, count[i]);\n",
    "    }\n",
    "    \n",
    "    \n",
    "}"
   ]
  },
  {
   "cell_type": "markdown",
   "metadata": {},
   "source": [
    "## Functions "
   ]
  },
  {
   "cell_type": "code",
   "execution_count": 8,
   "metadata": {},
   "outputs": [
    {
     "name": "stdout",
     "output_type": "stream",
     "text": [
      "Table of Fahrenheit to Celcius conversions\n",
      "Fahrenheit               Celcius\n",
      "         0                -17.0\n",
      "        20                 -6.0\n",
      "        40                  4.0\n",
      "        60                 15.0\n",
      "        80                 26.0\n",
      "       100                 37.0\n",
      "       120                 48.0\n",
      "       140                 60.0\n",
      "       160                 71.0\n",
      "       180                 82.0\n",
      "       200                 93.0\n",
      "       220                104.0\n",
      "       240                115.0\n",
      "       260                126.0\n",
      "       280                137.0\n",
      "       300                148.0\n"
     ]
    }
   ],
   "source": [
    "/* temperature conversion with functions \n",
    "ex 1.15 */\n",
    "\n",
    "#include <stdio.h>\n",
    "\n",
    "#define START\n",
    "\n",
    "float fahr_cel (float fahr);\n",
    "\n",
    "int main(){\n",
    "    \n",
    "    float i;\n",
    "    float start, stop, step;\n",
    "    \n",
    "    start = 0;\n",
    "    stop = 300.0;\n",
    "    step = 20.0;\n",
    "\n",
    "    printf(\"Table of Fahrenheit to Celcius conversions\\n\");\n",
    "    printf(\"%10s %22s\", \"Fahrenheit\", \"Celcius\\n\");\n",
    "    \n",
    "    for (i = start; i<= stop; i = i + step)\n",
    "        \n",
    "        printf(\"%10.0f %20.1f\\n\", i, fahr_cel(i));\n",
    "    \n",
    "    return 0;\n",
    "    \n",
    "}\n",
    "\n",
    "/*Fahrenheit to Celcius conversion function */\n",
    "float fahr_cel (float fahr){\n",
    "    \n",
    "    int cel;\n",
    "    \n",
    "    cel = (5.0/9.0) * (fahr - 32);\n",
    "    return cel;\n",
    "} "
   ]
  },
  {
   "cell_type": "code",
   "execution_count": null,
   "metadata": {},
   "outputs": [],
   "source": []
  }
 ],
 "metadata": {
  "kernelspec": {
   "display_name": "C",
   "language": "c",
   "name": "c"
  },
  "language_info": {
   "file_extension": ".c",
   "mimetype": "text/plain",
   "name": "c"
  }
 },
 "nbformat": 4,
 "nbformat_minor": 5
}
